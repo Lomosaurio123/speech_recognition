{
 "cells": [
  {
   "cell_type": "markdown",
   "metadata": {},
   "source": [
    "## Importar librerias"
   ]
  },
  {
   "cell_type": "code",
   "execution_count": 41,
   "metadata": {},
   "outputs": [],
   "source": [
    "import librosa\n",
    "import numpy as np\n",
    "import sounddevice as sd\n",
    "import wave\n",
    "from frontend import vectorizer\n",
    "import matplotlib.pyplot as plt"
   ]
  },
  {
   "cell_type": "markdown",
   "metadata": {},
   "source": [
    "## Grabar audio"
   ]
  },
  {
   "cell_type": "code",
   "execution_count": 24,
   "metadata": {},
   "outputs": [
    {
     "name": "stdout",
     "output_type": "stream",
     "text": [
      "Dispositivos disponibles:\n",
      "1. Asignador de sonido Microsoft - Input\n",
      "2. Micrófono (Realtek(R) Audio)\n",
      "3. Asignador de sonido Microsoft - Output\n",
      "4. Realtek HD Audio 2nd output (Re\n",
      "5. BenQ GW2283 (NVIDIA High Defini\n",
      "6. Altavoces (7.1 Surround Sound)\n",
      "7. Controlador primario de captura de sonido\n",
      "8. Micrófono (Realtek(R) Audio)\n",
      "9. Controlador primario de sonido\n",
      "10. Realtek HD Audio 2nd output (Realtek(R) Audio)\n",
      "11. BenQ GW2283 (NVIDIA High Definition Audio)\n",
      "12. Altavoces (7.1 Surround Sound)\n",
      "13. Realtek ASIO\n",
      "14. Realtek HD Audio 2nd output (Realtek(R) Audio)\n",
      "15. BenQ GW2283 (NVIDIA High Definition Audio)\n",
      "16. Altavoces (7.1 Surround Sound)\n",
      "17. Micrófono (Realtek(R) Audio)\n",
      "18. Headphones (Realtek HD Audio 2nd output)\n",
      "19. Mezcla estéreo (Realtek HD Audio Stereo input)\n",
      "20. Línea de entrada (Realtek HD Audio Line input)\n",
      "21. Micrófono (Realtek HD Audio Mic input)\n",
      "22. Speakers (Realtek HD Audio output)\n",
      "23. Output (NVIDIA High Definition Audio)\n",
      "24. Speakers 1 (7.1 Surround Sound Wave Speaker Headphone)\n",
      "25. Speakers 2 (7.1 Surround Sound Wave Speaker Headphone)\n",
      "26. Input (7.1 Surround Sound Wave Speaker Headphone)\n"
     ]
    }
   ],
   "source": [
    "# Dispositivos disponibles\n",
    "dispositivos_disponibles = sd.query_devices()\n",
    "print(\"Dispositivos disponibles:\")\n",
    "for i, dispositivo in enumerate(dispositivos_disponibles):\n",
    "    print(f\"{i + 1}. {dispositivo['name']}\")"
   ]
  },
  {
   "cell_type": "code",
   "execution_count": 28,
   "metadata": {},
   "outputs": [],
   "source": [
    "dispositivo_seleccionado = int(input(\"Selecciona el número del dispositivo de entrada: \")) - 1"
   ]
  },
  {
   "cell_type": "code",
   "execution_count": 34,
   "metadata": {},
   "outputs": [],
   "source": [
    "def grabar_audio(nombre_archivo, duracion_segundos, dispositivo):\n",
    "    fs = 44100  # Frecuencia de muestreo\n",
    "\n",
    "    print(f\"Grabando {duracion_segundos} segundos de audio desde el dispositivo {dispositivo}...\")\n",
    "    audio = sd.rec(int(fs * duracion_segundos), samplerate=fs, channels=1, device=dispositivo, dtype=np.int16)\n",
    "    sd.wait()\n",
    "\n",
    "    # Guarda el audio en un archivo WAV\n",
    "    with wave.open(nombre_archivo, 'wb') as wf:\n",
    "        wf.setnchannels(1)\n",
    "        wf.setsampwidth(2)\n",
    "        wf.setframerate(fs)\n",
    "        wf.writeframes(audio.tobytes())"
   ]
  },
  {
   "cell_type": "code",
   "execution_count": 36,
   "metadata": {},
   "outputs": [
    {
     "name": "stdout",
     "output_type": "stream",
     "text": [
      "Grabando 3 segundos de audio desde el dispositivo 7...\n"
     ]
    }
   ],
   "source": [
    "audio = grabar_audio( \"audio.wav\",3, dispositivo_seleccionado )"
   ]
  },
  {
   "cell_type": "markdown",
   "metadata": {},
   "source": [
    "## Cargar el audio en el formato que librosa lo requiere"
   ]
  },
  {
   "cell_type": "code",
   "execution_count": 37,
   "metadata": {},
   "outputs": [],
   "source": [
    "audio_file = \"audio.wav\"\n",
    "y, sr = librosa.load(audio_file)"
   ]
  },
  {
   "cell_type": "markdown",
   "metadata": {},
   "source": [
    "## Llamar el front-end"
   ]
  },
  {
   "cell_type": "code",
   "execution_count": 40,
   "metadata": {},
   "outputs": [],
   "source": [
    "feature_vector = vectorizer( audio = y, sample_rate = sr )"
   ]
  },
  {
   "cell_type": "markdown",
   "metadata": {},
   "source": [
    "## Mostrar el MFCC"
   ]
  },
  {
   "cell_type": "code",
   "execution_count": 43,
   "metadata": {},
   "outputs": [
    {
     "data": {
      "image/png": "[encoded data removed]",
      "text/plain": [
       "<Figure size 1200x600 with 2 Axes>"
      ]
     },
     "metadata": {},
     "output_type": "display_data"
    }
   ],
   "source": [
    "# Graficar los coeficientes MFCC\n",
    "plt.figure(figsize=(12, 6))\n",
    "librosa.display.specshow(feature_vector, x_axis='time')\n",
    "plt.colorbar()\n",
    "plt.title('MFCC')\n",
    "plt.show()"
   ]
  }
 ],
 "metadata": {
  "kernelspec": {
   "display_name": "Python 3",
   "language": "python",
   "name": "python3"
  },
  "language_info": {
   "codemirror_mode": {
    "name": "ipython",
    "version": 3
   },
   "file_extension": ".py",
   "mimetype": "text/x-python",
   "name": "python",
   "nbconvert_exporter": "python",
   "pygments_lexer": "ipython3",
   "version": "3.11.3"
  }
 },
 "nbformat": 4,
 "nbformat_minor": 2
}
